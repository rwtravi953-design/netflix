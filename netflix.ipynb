{
 "cells": [
  {
   "cell_type": "code",
   "execution_count": 1,
   "id": "a553423a",
   "metadata": {},
   "outputs": [
    {
     "name": "stdout",
     "output_type": "stream",
     "text": [
      "show_id            0\n",
      "type               0\n",
      "title              0\n",
      "director        2631\n",
      "cast             825\n",
      "country          830\n",
      "date_added        10\n",
      "release_year       0\n",
      "rating             0\n",
      "duration           3\n",
      "listed_in          0\n",
      "description        0\n",
      "dtype: int64\n",
      "show_id         object\n",
      "type            object\n",
      "title           object\n",
      "director        object\n",
      "cast            object\n",
      "country         object\n",
      "date_added      object\n",
      "release_year    object\n",
      "rating          object\n",
      "duration        object\n",
      "listed_in       object\n",
      "description     object\n",
      "dtype: object\n"
     ]
    }
   ],
   "source": [
    "import pandas as pd\n",
    "df=pd.read_csv(r\"C:\\Users\\Arun\\Downloads\\netflix_titles.csv\\netflix_titles.csv\")\n",
    "df.head()\n",
    "df=df[df[\"rating\"].notna()]\n",
    "print(df.isnull().sum())\n",
    "df[\"release_year\"] = df[\"release_year\"].astype(str)  \n",
    "print(df.dtypes)\n"
   ]
  },
  {
   "cell_type": "code",
   "execution_count": 2,
   "id": "cfc42432",
   "metadata": {},
   "outputs": [
    {
     "data": {
      "text/plain": [
       "0                                                     \n",
       "1                                                     \n",
       "2    JulienLeclercqSamiBouajila,TracyGotoas,SamuelJ...\n",
       "3                                                     \n",
       "4                                                     \n",
       "Name: new, dtype: object"
      ]
     },
     "execution_count": 2,
     "metadata": {},
     "output_type": "execute_result"
    }
   ],
   "source": [
    "rej=[\"country\",\"date_added\",\"duration\"]\n",
    "for i in rej:\n",
    "    df=df.drop(i,axis=1)\n",
    "df[\"new\"]=df[\"director\"]+df[\"cast\"]    \n",
    "df=df.fillna(\" \")\n",
    "df['new']=df[\"new\"].apply(lambda x : x.replace(\" \",\"\") )\n",
    "df[\"new\"].head(5)\n"
   ]
  },
  {
   "cell_type": "code",
   "execution_count": 3,
   "id": "49e33809",
   "metadata": {},
   "outputs": [
    {
     "data": {
      "text/html": [
       "<div>\n",
       "<style scoped>\n",
       "    .dataframe tbody tr th:only-of-type {\n",
       "        vertical-align: middle;\n",
       "    }\n",
       "\n",
       "    .dataframe tbody tr th {\n",
       "        vertical-align: top;\n",
       "    }\n",
       "\n",
       "    .dataframe thead th {\n",
       "        text-align: right;\n",
       "    }\n",
       "</style>\n",
       "<table border=\"1\" class=\"dataframe\">\n",
       "  <thead>\n",
       "    <tr style=\"text-align: right;\">\n",
       "      <th></th>\n",
       "      <th>show_id</th>\n",
       "      <th>type</th>\n",
       "      <th>title</th>\n",
       "      <th>director</th>\n",
       "      <th>cast</th>\n",
       "      <th>release_year</th>\n",
       "      <th>rating</th>\n",
       "      <th>listed_in</th>\n",
       "      <th>description</th>\n",
       "      <th>new</th>\n",
       "    </tr>\n",
       "  </thead>\n",
       "  <tbody>\n",
       "    <tr>\n",
       "      <th>0</th>\n",
       "      <td>s1</td>\n",
       "      <td>Movie</td>\n",
       "      <td>Dick Johnson Is Dead</td>\n",
       "      <td>Kirsten Johnson</td>\n",
       "      <td></td>\n",
       "      <td>2020</td>\n",
       "      <td>PG-13</td>\n",
       "      <td>Documentaries</td>\n",
       "      <td>As her father nears the end of his life, filmm...</td>\n",
       "      <td></td>\n",
       "    </tr>\n",
       "    <tr>\n",
       "      <th>1</th>\n",
       "      <td>s2</td>\n",
       "      <td>TV Show</td>\n",
       "      <td>Blood &amp; Water</td>\n",
       "      <td></td>\n",
       "      <td>Ama Qamata, Khosi Ngema, Gail Mabalane, Thaban...</td>\n",
       "      <td>2021</td>\n",
       "      <td>TV-MA</td>\n",
       "      <td>International TV Shows, TV Dramas, TV Mysteries</td>\n",
       "      <td>After crossing paths at a party, a Cape Town t...</td>\n",
       "      <td></td>\n",
       "    </tr>\n",
       "    <tr>\n",
       "      <th>2</th>\n",
       "      <td>s3</td>\n",
       "      <td>TV Show</td>\n",
       "      <td>Ganglands</td>\n",
       "      <td>Julien Leclercq</td>\n",
       "      <td>Sami Bouajila, Tracy Gotoas, Samuel Jouy, Nabi...</td>\n",
       "      <td>2021</td>\n",
       "      <td>TV-MA</td>\n",
       "      <td>Crime TV Shows, International TV Shows, TV Act...</td>\n",
       "      <td>To protect his family from a powerful drug lor...</td>\n",
       "      <td>JulienLeclercqSamiBouajila,TracyGotoas,SamuelJ...</td>\n",
       "    </tr>\n",
       "    <tr>\n",
       "      <th>3</th>\n",
       "      <td>s4</td>\n",
       "      <td>TV Show</td>\n",
       "      <td>Jailbirds New Orleans</td>\n",
       "      <td></td>\n",
       "      <td></td>\n",
       "      <td>2021</td>\n",
       "      <td>TV-MA</td>\n",
       "      <td>Docuseries, Reality TV</td>\n",
       "      <td>Feuds, flirtations and toilet talk go down amo...</td>\n",
       "      <td></td>\n",
       "    </tr>\n",
       "    <tr>\n",
       "      <th>4</th>\n",
       "      <td>s5</td>\n",
       "      <td>TV Show</td>\n",
       "      <td>Kota Factory</td>\n",
       "      <td></td>\n",
       "      <td>Mayur More, Jitendra Kumar, Ranjan Raj, Alam K...</td>\n",
       "      <td>2021</td>\n",
       "      <td>TV-MA</td>\n",
       "      <td>International TV Shows, Romantic TV Shows, TV ...</td>\n",
       "      <td>In a city of coaching centers known to train I...</td>\n",
       "      <td></td>\n",
       "    </tr>\n",
       "  </tbody>\n",
       "</table>\n",
       "</div>"
      ],
      "text/plain": [
       "  show_id     type                  title         director  \\\n",
       "0      s1    Movie   Dick Johnson Is Dead  Kirsten Johnson   \n",
       "1      s2  TV Show          Blood & Water                    \n",
       "2      s3  TV Show              Ganglands  Julien Leclercq   \n",
       "3      s4  TV Show  Jailbirds New Orleans                    \n",
       "4      s5  TV Show           Kota Factory                    \n",
       "\n",
       "                                                cast release_year rating  \\\n",
       "0                                                            2020  PG-13   \n",
       "1  Ama Qamata, Khosi Ngema, Gail Mabalane, Thaban...         2021  TV-MA   \n",
       "2  Sami Bouajila, Tracy Gotoas, Samuel Jouy, Nabi...         2021  TV-MA   \n",
       "3                                                            2021  TV-MA   \n",
       "4  Mayur More, Jitendra Kumar, Ranjan Raj, Alam K...         2021  TV-MA   \n",
       "\n",
       "                                           listed_in  \\\n",
       "0                                      Documentaries   \n",
       "1    International TV Shows, TV Dramas, TV Mysteries   \n",
       "2  Crime TV Shows, International TV Shows, TV Act...   \n",
       "3                             Docuseries, Reality TV   \n",
       "4  International TV Shows, Romantic TV Shows, TV ...   \n",
       "\n",
       "                                         description  \\\n",
       "0  As her father nears the end of his life, filmm...   \n",
       "1  After crossing paths at a party, a Cape Town t...   \n",
       "2  To protect his family from a powerful drug lor...   \n",
       "3  Feuds, flirtations and toilet talk go down amo...   \n",
       "4  In a city of coaching centers known to train I...   \n",
       "\n",
       "                                                 new  \n",
       "0                                                     \n",
       "1                                                     \n",
       "2  JulienLeclercqSamiBouajila,TracyGotoas,SamuelJ...  \n",
       "3                                                     \n",
       "4                                                     "
      ]
     },
     "execution_count": 3,
     "metadata": {},
     "output_type": "execute_result"
    }
   ],
   "source": [
    "df.head()"
   ]
  },
  {
   "cell_type": "code",
   "execution_count": 4,
   "id": "0b2255bc",
   "metadata": {},
   "outputs": [],
   "source": [
    "df[\"tags\"] = df[[\"type\", \"new\", \"release_year\", \"rating\", \"listed_in\", \"description\"]].agg(lambda x: ' '.join(x.astype(str)), axis=1)\n"
   ]
  },
  {
   "cell_type": "code",
   "execution_count": 5,
   "id": "7f0a617f",
   "metadata": {},
   "outputs": [],
   "source": [
    "df = df[['show_id', 'title', 'tags']]\n",
    "df['tags']=df['tags'].apply(lambda x :x.lower())\n",
    "df.head()\n",
    "import nltk\n",
    "from nltk.stem import WordNetLemmatizer\n",
    "def stem(text):\n",
    "    y=[]\n",
    "    nltk.download('wordnet')\n",
    "    for i in text.split(\" \"):\n",
    "        model=WordNetLemmatizer()\n",
    "        y.append(model.lemmatize(i))\n",
    "        return \" \".join(y)\n",
    "\n",
    "# df['tags']=df['tags'].apply(stem)\n",
    "\n",
    "\n"
   ]
  },
  {
   "cell_type": "code",
   "execution_count": 6,
   "id": "9e513eb8",
   "metadata": {},
   "outputs": [
    {
     "data": {
      "text/plain": [
       "array([[0., 0., 0., ..., 0., 0., 0.],\n",
       "       [0., 0., 0., ..., 0., 0., 0.],\n",
       "       [0., 0., 0., ..., 0., 0., 0.],\n",
       "       ...,\n",
       "       [0., 0., 0., ..., 0., 0., 0.],\n",
       "       [0., 0., 0., ..., 0., 0., 0.],\n",
       "       [0., 0., 0., ..., 0., 0., 0.]])"
      ]
     },
     "execution_count": 6,
     "metadata": {},
     "output_type": "execute_result"
    }
   ],
   "source": [
    "import numpy as np\n",
    "from sklearn.feature_extraction.text import TfidfVectorizer\n",
    "cv=TfidfVectorizer(max_features=5000,stop_words=\"english\",)\n",
    "vector = cv.fit_transform(df[\"tags\"]).toarray()\n",
    "vector\n"
   ]
  },
  {
   "cell_type": "code",
   "execution_count": 7,
   "id": "cf924bc4",
   "metadata": {},
   "outputs": [
    {
     "data": {
      "text/plain": [
       "array(['000', '10', '100', '11', '12', '13', '14', '15', '16', '17', '18',\n",
       "       '18th', '19', '1920s', '1930s', '1944', '1945', '1950s', '1960',\n",
       "       '1960s', '1962', '1967', '1968', '1969', '1970s', '1971', '1972',\n",
       "       '1973', '1974', '1975', '1976', '1977', '1978', '1979', '1980',\n",
       "       '1980s', '1981', '1982', '1983', '1984', '1985', '1986', '1987',\n",
       "       '1988', '1989', '1990', '1990s', '1991', '1992', '1993', '1994',\n",
       "       '1995', '1996', '1997', '1998', '1999', '19th', '20', '2000',\n",
       "       '2001', '2002', '2003', '2004', '2005', '2006', '2007', '2008',\n",
       "       '2009', '2010', '2011', '2012', '2013', '2014', '2015', '2016',\n",
       "       '2017', '2018', '2019', '2020', '2021', '20s', '20th', '21st',\n",
       "       '24', '25', '28', '30', '40', '50', '500', '50th', '60', '70s',\n",
       "       '80s', '90s', 'abandoned', 'abandons', 'abducted',\n",
       "       'abigailbreslin', 'abilities', 'ability', 'able', 'aboard',\n",
       "       'abroad', 'absurd', 'abuse', 'abusive', 'academic', 'academy',\n",
       "       'accept', 'accepting', 'accepts', 'access', 'accident',\n",
       "       'accidental', 'accidentally', 'acclaimed', 'account', 'accounts',\n",
       "       'accused', 'achieve', 'act', 'acting', 'action', 'actions',\n",
       "       'activist', 'activists', 'activity', 'actor', 'actors', 'actress',\n",
       "       'acts', 'actually', 'ad', 'adam', 'adampally', 'adams',\n",
       "       'adamscott', 'adaptation', 'adapted', 'addict', 'addicted',\n",
       "       'addiction', 'adds', 'adesuaetomi', 'adilhussain',\n",
       "       'aditiraohydari', 'adjust', 'adolf', 'adopted', 'adopts',\n",
       "       'adorable', 'adult', 'adulthood', 'adults', 'adventure',\n",
       "       'adventures', 'adventurous', 'advertising', 'advice', 'affair',\n",
       "       'affairs', 'affection', 'affluent', 'afghanistan', 'afloat',\n",
       "       'afoul', 'africa', 'african', 'aftermath', 'age', 'aged', 'agency',\n",
       "       'agenda', 'agent', 'agents', 'ages', 'aging', 'ago', 'agrees',\n",
       "       'ahead', 'ahmedfathy', 'ahmedrateb', 'ai', 'aid', 'ailing', 'aim',\n",
       "       'aimless', 'aims', 'air', 'aires', 'airport',\n",
       "       'aishwaryaraibachchan', 'aka', 'akhilendramishra', 'akshayekhanna',\n",
       "       'akshaykumar', 'al', 'alancumming', 'album', 'alcohol',\n",
       "       'alcoholic', 'alecbaldwin', 'alessandrojuliani',\n",
       "       'alessandronivola', 'alex', 'alexabbad', 'alexandrajiménez',\n",
       "       'alexapenavega', 'alexxekubo', 'alfredmolina', 'alfrewoodard',\n",
       "       'ali', 'aliabhatt', 'aliashawkat', 'alicekrige', 'aliciavikander',\n",
       "       'alien', 'aliens', 'alike', 'alinuhu', 'alisonpill', 'alive',\n",
       "       'alleged', 'allen', 'allencovert', 'alliance', 'allied', 'allies',\n",
       "       'allisonjanney', 'allows', 'ally', 'aloknath', 'alongside',\n",
       "       'altantay', 'altar', 'alter', 'altered', 'alternate', 'alzheimer',\n",
       "       'amandaseyfried', 'amateur', 'amazing', 'amazon', 'amberheard',\n",
       "       'ambition', 'ambitions', 'ambitious', 'america', 'american',\n",
       "       'americans', 'americayoung', 'amid', 'amidst', 'amitabhbachchan',\n",
       "       'amnesia', 'amrishpuri', 'amritarao', 'amritasingh', 'amsterdam',\n",
       "       'amy', 'amyadams', 'amypoehler', 'amysedaris', 'ana', 'analyst',\n",
       "       'ancestral', 'ancient', 'andrealibman', 'andrewbachelor', 'andy',\n",
       "       'andyrichter', 'andysamberg', 'andyserkis', 'angadbedi', 'angel',\n",
       "       'angeles', 'angry', 'animal', 'animals', 'animated', 'animation',\n",
       "       'anime', 'anitadevgan', 'anjansrivastav', 'ann', 'annakendrick',\n",
       "       'anne', 'annemoss', 'anniversary', 'annual', 'anonymous', 'answer',\n",
       "       'answers', 'anthology', 'anthony', 'anthonyanderson',\n",
       "       'anthonyhopkins', 'anthonymackie', 'anti', 'anticipated', 'antics',\n",
       "       'antique', 'antonio', 'antoniobanderas', 'antonyelchin',\n",
       "       'anupamkher', 'anushkashetty', 'anxiety', 'apart', 'apartment',\n",
       "       'apocalypse', 'apollo', 'app', 'appear', 'appearance', 'appears',\n",
       "       'appointed', 'approach', 'approaches', 'arbaazkhan', 'architect',\n",
       "       'archival', 'arctic', 'area', 'aren', 'argentina', 'argentine',\n",
       "       'arjunmathur', 'arjunrampal', 'armed', 'arms', 'army', 'arranged',\n",
       "       'array', 'arrested', 'arrival', 'arrive', 'arrives', 'arrogant',\n",
       "       'arshadwarsi', 'art', 'arthur', 'artifacts', 'artificial',\n",
       "       'artist', 'artistic', 'artists', 'arts', 'aryababbar', 'ash',\n",
       "       'ashleighball', 'ashleygreene', 'ashleyjudd', 'asia', 'aside',\n",
       "       'asked', 'asks', 'aspects', 'aspiring', 'asrani', 'assassin',\n",
       "       'assassination', 'assassins', 'assault', 'assaulted', 'assembles',\n",
       "       'assigned', 'assignment', 'assist', 'assistant', 'assumes',\n",
       "       'asylum', 'athlete', 'athletes', 'atlanta', 'attack', 'attacks',\n",
       "       'attempt', 'attempted', 'attempts', 'attend', 'attending',\n",
       "       'attends', 'attention', 'attorney', 'attracted', 'attraction',\n",
       "       'atulkulkarni', 'audience', 'audiences', 'audition', 'audupaden',\n",
       "       'aunt', 'austin', 'australia', 'australian', 'author',\n",
       "       'authorities', 'autism', 'auto', 'avenge', 'avoid', 'avtargill',\n",
       "       'await', 'awaits', 'awakening', 'awakens', 'award', 'away',\n",
       "       'awkward', 'awry', 'ayomakun', 'babies', 'baby', 'bachelor',\n",
       "       'bachelors', 'backdrop', 'backgrounds', 'backstage', 'backyard',\n",
       "       'bad', 'baffling', 'bag', 'baggage', 'baker', 'bakers', 'baking',\n",
       "       'balance', 'balboa', 'ballet', 'band', 'bands', 'bangkok', 'bank',\n",
       "       'banker', 'banks', 'baptiste', 'bar', 'barber', 'barbie',\n",
       "       'barcelona', 'barek', 'bargained', 'barriers', 'bars', 'bartleby',\n",
       "       'base', 'baseball', 'based', 'basement', 'basketball', 'basque',\n",
       "       'bassemsamra', 'battle', 'battles', 'battling', 'bay',\n",
       "       'bayoumifouad', 'beach', 'bear', 'beast', 'beasts', 'beat',\n",
       "       'beats', 'beautiful', 'beauty', 'bedroom', 'beer', 'befriend',\n",
       "       'befriends', 'begin', 'beginning', 'beginnings', 'begins',\n",
       "       'behavior', 'beirut', 'belief', 'beliefs', 'believe', 'believes',\n",
       "       'believing', 'bell', 'bella', 'belle', 'belly', 'beloved',\n",
       "       'beléncuesta', 'ben', 'bending', 'beneath', 'benedictcumberbatch',\n",
       "       'benefits', 'benjaminbratt', 'benjaminfloresjr', 'benkingsley',\n",
       "       'benmendelsohn', 'bent', 'benwhishaw', 'berlin'], dtype=object)"
      ]
     },
     "execution_count": 7,
     "metadata": {},
     "output_type": "execute_result"
    }
   ],
   "source": [
    "cv.get_feature_names_out()[:500]"
   ]
  },
  {
   "cell_type": "code",
   "execution_count": 8,
   "id": "5576dd7b",
   "metadata": {},
   "outputs": [],
   "source": [
    "from sklearn.metrics.pairwise import cosine_similarity\n",
    "similarity=cosine_similarity(vector)"
   ]
  },
  {
   "cell_type": "code",
   "execution_count": 9,
   "id": "1ac81844",
   "metadata": {},
   "outputs": [],
   "source": [
    "def recommend(movie):\n",
    "    movie=df[df['title']==movie].index[0]\n",
    "    distance=similarity[movie]\n",
    "    movie_list=sorted(list(enumerate(distance)),reverse=True,key=lambda x:x[1])[1:6]\n",
    "    for i in movie_list:\n",
    "        print(df.iloc[i[0]].title)\n",
    "       \n",
    "    "
   ]
  },
  {
   "cell_type": "code",
   "execution_count": 10,
   "id": "70c63775",
   "metadata": {},
   "outputs": [
    {
     "name": "stdout",
     "output_type": "stream",
     "text": [
      "O-Negative, Love Can’t Be Designed\n",
      "Single Ladies Senior\n",
      "Feels Like Ishq\n",
      "Titipo Titipo\n",
      "Bad Guys\n"
     ]
    }
   ],
   "source": [
    "recommend(\"Kota Factory\")"
   ]
  },
  {
   "cell_type": "code",
   "execution_count": null,
   "id": "8551d7be",
   "metadata": {},
   "outputs": [],
   "source": []
  }
 ],
 "metadata": {
  "kernelspec": {
   "display_name": "Python 3",
   "language": "python",
   "name": "python3"
  },
  "language_info": {
   "codemirror_mode": {
    "name": "ipython",
    "version": 3
   },
   "file_extension": ".py",
   "mimetype": "text/x-python",
   "name": "python",
   "nbconvert_exporter": "python",
   "pygments_lexer": "ipython3",
   "version": "3.10.10"
  }
 },
 "nbformat": 4,
 "nbformat_minor": 5
}
